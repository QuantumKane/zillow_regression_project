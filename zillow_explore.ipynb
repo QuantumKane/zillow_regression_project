{
 "cells": [
  {
   "cell_type": "markdown",
   "metadata": {},
   "source": [
    "## Purpose of this notebook:\n",
    "- Provide a model that can predict the home value of single unit properties that the tax district assessed during the  months of May through August 2017, using number of bedrooms, number of bathrooms, and square feet of the property as features\n",
    "- Create and evaluate different models to find the effectiveness of the selected features\n",
    "- Using the FIPS numbers, find the specific county for each home in the data, and create a seperate dataframe to display the tax rate for each county\n",
    "\n"
   ]
  },
  {
   "cell_type": "code",
   "execution_count": 68,
   "metadata": {},
   "outputs": [],
   "source": [
    "# imports\n",
    "\n",
    "import matplotlib.pyplot as plt\n",
    "import seaborn as sns\n",
    "\n",
    "import pandas as pd\n",
    "import numpy as np\n",
    "import matplotlib.pyplot as plt\n",
    "import seaborn as sns\n",
    "from sklearn.model_selection import train_test_split\n",
    "import sklearn.preprocessing\n",
    "import warnings\n",
    "warnings.filterwarnings(\"ignore\")\n",
    "from scipy.stats import norm, ttest_ind, pearsonr\n",
    "from math import sqrt\n",
    "\n",
    "from scipy import stats\n",
    "\n",
    "# modeling methods\n",
    "from sklearn.metrics import mean_squared_error\n",
    "from sklearn.linear_model import LinearRegression, LassoLars\n",
    "from sklearn.preprocessing import PolynomialFeatures\n",
    "\n",
    "import env\n",
    "import acquire\n",
    "import prepare"
   ]
  },
  {
   "cell_type": "markdown",
   "metadata": {},
   "source": [
    "## Acquire"
   ]
  },
  {
   "cell_type": "code",
   "execution_count": 2,
   "metadata": {},
   "outputs": [],
   "source": [
    "# acquire data \n",
    "\n",
    "df = acquire.get_zillow_data()"
   ]
  },
  {
   "cell_type": "code",
   "execution_count": 3,
   "metadata": {},
   "outputs": [
    {
     "data": {
      "text/html": [
       "<div>\n",
       "<style scoped>\n",
       "    .dataframe tbody tr th:only-of-type {\n",
       "        vertical-align: middle;\n",
       "    }\n",
       "\n",
       "    .dataframe tbody tr th {\n",
       "        vertical-align: top;\n",
       "    }\n",
       "\n",
       "    .dataframe thead th {\n",
       "        text-align: right;\n",
       "    }\n",
       "</style>\n",
       "<table border=\"1\" class=\"dataframe\">\n",
       "  <thead>\n",
       "    <tr style=\"text-align: right;\">\n",
       "      <th></th>\n",
       "      <th>parcelid</th>\n",
       "      <th>id</th>\n",
       "      <th>airconditioningtypeid</th>\n",
       "      <th>architecturalstyletypeid</th>\n",
       "      <th>basementsqft</th>\n",
       "      <th>bathroomcnt</th>\n",
       "      <th>bedroomcnt</th>\n",
       "      <th>buildingclasstypeid</th>\n",
       "      <th>buildingqualitytypeid</th>\n",
       "      <th>calculatedbathnbr</th>\n",
       "      <th>...</th>\n",
       "      <th>taxvaluedollarcnt</th>\n",
       "      <th>assessmentyear</th>\n",
       "      <th>landtaxvaluedollarcnt</th>\n",
       "      <th>taxamount</th>\n",
       "      <th>taxdelinquencyflag</th>\n",
       "      <th>taxdelinquencyyear</th>\n",
       "      <th>censustractandblock</th>\n",
       "      <th>id</th>\n",
       "      <th>logerror</th>\n",
       "      <th>transactiondate</th>\n",
       "    </tr>\n",
       "  </thead>\n",
       "  <tbody>\n",
       "    <tr>\n",
       "      <td>0</td>\n",
       "      <td>11721753</td>\n",
       "      <td>616260</td>\n",
       "      <td>NaN</td>\n",
       "      <td>NaN</td>\n",
       "      <td>NaN</td>\n",
       "      <td>2.0</td>\n",
       "      <td>3.0</td>\n",
       "      <td>None</td>\n",
       "      <td>6.0</td>\n",
       "      <td>2.0</td>\n",
       "      <td>...</td>\n",
       "      <td>205123.0</td>\n",
       "      <td>2016.0</td>\n",
       "      <td>163175.0</td>\n",
       "      <td>2627.48</td>\n",
       "      <td>None</td>\n",
       "      <td>NaN</td>\n",
       "      <td>6.037220e+13</td>\n",
       "      <td>1018</td>\n",
       "      <td>0.017785</td>\n",
       "      <td>2017-07-21</td>\n",
       "    </tr>\n",
       "    <tr>\n",
       "      <td>1</td>\n",
       "      <td>11289917</td>\n",
       "      <td>2061546</td>\n",
       "      <td>1.0</td>\n",
       "      <td>NaN</td>\n",
       "      <td>NaN</td>\n",
       "      <td>2.0</td>\n",
       "      <td>3.0</td>\n",
       "      <td>None</td>\n",
       "      <td>6.0</td>\n",
       "      <td>2.0</td>\n",
       "      <td>...</td>\n",
       "      <td>136104.0</td>\n",
       "      <td>2016.0</td>\n",
       "      <td>27214.0</td>\n",
       "      <td>2319.90</td>\n",
       "      <td>Y</td>\n",
       "      <td>15.0</td>\n",
       "      <td>6.037901e+13</td>\n",
       "      <td>1248</td>\n",
       "      <td>-0.362001</td>\n",
       "      <td>2017-06-23</td>\n",
       "    </tr>\n",
       "    <tr>\n",
       "      <td>2</td>\n",
       "      <td>11705026</td>\n",
       "      <td>1834372</td>\n",
       "      <td>NaN</td>\n",
       "      <td>NaN</td>\n",
       "      <td>NaN</td>\n",
       "      <td>1.0</td>\n",
       "      <td>2.0</td>\n",
       "      <td>None</td>\n",
       "      <td>6.0</td>\n",
       "      <td>1.0</td>\n",
       "      <td>...</td>\n",
       "      <td>35606.0</td>\n",
       "      <td>2016.0</td>\n",
       "      <td>23624.0</td>\n",
       "      <td>543.69</td>\n",
       "      <td>None</td>\n",
       "      <td>NaN</td>\n",
       "      <td>6.037232e+13</td>\n",
       "      <td>1772</td>\n",
       "      <td>-0.146056</td>\n",
       "      <td>2017-06-30</td>\n",
       "    </tr>\n",
       "    <tr>\n",
       "      <td>3</td>\n",
       "      <td>14269464</td>\n",
       "      <td>1923117</td>\n",
       "      <td>NaN</td>\n",
       "      <td>NaN</td>\n",
       "      <td>NaN</td>\n",
       "      <td>3.0</td>\n",
       "      <td>4.0</td>\n",
       "      <td>None</td>\n",
       "      <td>NaN</td>\n",
       "      <td>3.0</td>\n",
       "      <td>...</td>\n",
       "      <td>880456.0</td>\n",
       "      <td>2016.0</td>\n",
       "      <td>445569.0</td>\n",
       "      <td>9819.72</td>\n",
       "      <td>None</td>\n",
       "      <td>NaN</td>\n",
       "      <td>6.059064e+13</td>\n",
       "      <td>2028</td>\n",
       "      <td>0.021085</td>\n",
       "      <td>2017-06-01</td>\n",
       "    </tr>\n",
       "    <tr>\n",
       "      <td>4</td>\n",
       "      <td>11446756</td>\n",
       "      <td>451211</td>\n",
       "      <td>NaN</td>\n",
       "      <td>NaN</td>\n",
       "      <td>NaN</td>\n",
       "      <td>2.0</td>\n",
       "      <td>3.0</td>\n",
       "      <td>None</td>\n",
       "      <td>6.0</td>\n",
       "      <td>2.0</td>\n",
       "      <td>...</td>\n",
       "      <td>107110.0</td>\n",
       "      <td>2016.0</td>\n",
       "      <td>46573.0</td>\n",
       "      <td>1399.27</td>\n",
       "      <td>None</td>\n",
       "      <td>NaN</td>\n",
       "      <td>6.037650e+13</td>\n",
       "      <td>2681</td>\n",
       "      <td>-0.163064</td>\n",
       "      <td>2017-08-23</td>\n",
       "    </tr>\n",
       "  </tbody>\n",
       "</table>\n",
       "<p>5 rows × 62 columns</p>\n",
       "</div>"
      ],
      "text/plain": [
       "   parcelid       id  airconditioningtypeid  architecturalstyletypeid  \\\n",
       "0  11721753   616260                    NaN                       NaN   \n",
       "1  11289917  2061546                    1.0                       NaN   \n",
       "2  11705026  1834372                    NaN                       NaN   \n",
       "3  14269464  1923117                    NaN                       NaN   \n",
       "4  11446756   451211                    NaN                       NaN   \n",
       "\n",
       "   basementsqft  bathroomcnt  bedroomcnt buildingclasstypeid  \\\n",
       "0           NaN          2.0         3.0                None   \n",
       "1           NaN          2.0         3.0                None   \n",
       "2           NaN          1.0         2.0                None   \n",
       "3           NaN          3.0         4.0                None   \n",
       "4           NaN          2.0         3.0                None   \n",
       "\n",
       "   buildingqualitytypeid  calculatedbathnbr  ...  taxvaluedollarcnt  \\\n",
       "0                    6.0                2.0  ...           205123.0   \n",
       "1                    6.0                2.0  ...           136104.0   \n",
       "2                    6.0                1.0  ...            35606.0   \n",
       "3                    NaN                3.0  ...           880456.0   \n",
       "4                    6.0                2.0  ...           107110.0   \n",
       "\n",
       "   assessmentyear  landtaxvaluedollarcnt  taxamount taxdelinquencyflag  \\\n",
       "0          2016.0               163175.0    2627.48               None   \n",
       "1          2016.0                27214.0    2319.90                  Y   \n",
       "2          2016.0                23624.0     543.69               None   \n",
       "3          2016.0               445569.0    9819.72               None   \n",
       "4          2016.0                46573.0    1399.27               None   \n",
       "\n",
       "  taxdelinquencyyear  censustractandblock    id  logerror  transactiondate  \n",
       "0                NaN         6.037220e+13  1018  0.017785       2017-07-21  \n",
       "1               15.0         6.037901e+13  1248 -0.362001       2017-06-23  \n",
       "2                NaN         6.037232e+13  1772 -0.146056       2017-06-30  \n",
       "3                NaN         6.059064e+13  2028  0.021085       2017-06-01  \n",
       "4                NaN         6.037650e+13  2681 -0.163064       2017-08-23  \n",
       "\n",
       "[5 rows x 62 columns]"
      ]
     },
     "execution_count": 3,
     "metadata": {},
     "output_type": "execute_result"
    }
   ],
   "source": [
    "# Take a look at the data\n",
    "\n",
    "df.head()"
   ]
  },
  {
   "cell_type": "code",
   "execution_count": 4,
   "metadata": {},
   "outputs": [
    {
     "name": "stdout",
     "output_type": "stream",
     "text": [
      "My original dataframe is coming in with 28124 rows and 62 columns.\n"
     ]
    }
   ],
   "source": [
    "# Print a structured shape of the original data\n",
    "\n",
    "print(f'My original dataframe is coming in with {df.shape[0]} rows and {df.shape[1]} columns.')"
   ]
  },
  {
   "cell_type": "code",
   "execution_count": 5,
   "metadata": {},
   "outputs": [
    {
     "name": "stdout",
     "output_type": "stream",
     "text": [
      "<class 'pandas.core.frame.DataFrame'>\n",
      "RangeIndex: 28124 entries, 0 to 28123\n",
      "Data columns (total 62 columns):\n",
      "parcelid                        28124 non-null int64\n",
      "id                              28124 non-null int64\n",
      "airconditioningtypeid           7303 non-null float64\n",
      "architecturalstyletypeid        33 non-null float64\n",
      "basementsqft                    25 non-null float64\n",
      "bathroomcnt                     28124 non-null float64\n",
      "bedroomcnt                      28124 non-null float64\n",
      "buildingclasstypeid             0 non-null object\n",
      "buildingqualitytypeid           17811 non-null float64\n",
      "calculatedbathnbr               28050 non-null float64\n",
      "decktypeid                      213 non-null float64\n",
      "finishedfloor1squarefeet        2439 non-null float64\n",
      "calculatedfinishedsquarefeet    28077 non-null float64\n",
      "finishedsquarefeet12            27999 non-null float64\n",
      "finishedsquarefeet13            0 non-null object\n",
      "finishedsquarefeet15            0 non-null object\n",
      "finishedsquarefeet50            2439 non-null float64\n",
      "finishedsquarefeet6             78 non-null float64\n",
      "fips                            28124 non-null float64\n",
      "fireplacecnt                    4090 non-null float64\n",
      "fullbathcnt                     28050 non-null float64\n",
      "garagecarcnt                    9953 non-null float64\n",
      "garagetotalsqft                 9953 non-null float64\n",
      "hashottuborspa                  882 non-null float64\n",
      "heatingorsystemtypeid           17959 non-null float64\n",
      "latitude                        28124 non-null float64\n",
      "longitude                       28124 non-null float64\n",
      "lotsizesquarefeet               27921 non-null float64\n",
      "poolcnt                         6130 non-null float64\n",
      "poolsizesum                     494 non-null float64\n",
      "pooltypeid10                    243 non-null float64\n",
      "pooltypeid2                     639 non-null float64\n",
      "pooltypeid7                     5484 non-null float64\n",
      "propertycountylandusecode       28124 non-null object\n",
      "propertylandusetypeid           28124 non-null float64\n",
      "propertyzoningdesc              17873 non-null object\n",
      "rawcensustractandblock          28124 non-null float64\n",
      "regionidcity                    27558 non-null float64\n",
      "regionidcounty                  28124 non-null float64\n",
      "regionidneighborhood            10271 non-null float64\n",
      "regionidzip                     28107 non-null float64\n",
      "roomcnt                         28124 non-null float64\n",
      "storytypeid                     25 non-null float64\n",
      "threequarterbathnbr             3772 non-null float64\n",
      "typeconstructiontypeid          35 non-null float64\n",
      "unitcnt                         17868 non-null float64\n",
      "yardbuildingsqft17              1111 non-null float64\n",
      "yardbuildingsqft26              43 non-null float64\n",
      "yearbuilt                       28053 non-null float64\n",
      "numberofstories                 8002 non-null float64\n",
      "fireplaceflag                   38 non-null float64\n",
      "structuretaxvaluedollarcnt      28086 non-null float64\n",
      "taxvaluedollarcnt               28123 non-null float64\n",
      "assessmentyear                  28124 non-null float64\n",
      "landtaxvaluedollarcnt           28123 non-null float64\n",
      "taxamount                       28123 non-null float64\n",
      "taxdelinquencyflag              1000 non-null object\n",
      "taxdelinquencyyear              1000 non-null float64\n",
      "censustractandblock             28046 non-null float64\n",
      "id                              28124 non-null int64\n",
      "logerror                        28124 non-null float64\n",
      "transactiondate                 28124 non-null object\n",
      "dtypes: float64(52), int64(3), object(7)\n",
      "memory usage: 13.3+ MB\n"
     ]
    }
   ],
   "source": [
    "# Looking at the columns with more detail\n",
    "\n",
    "df.info()"
   ]
  },
  {
   "cell_type": "code",
   "execution_count": 6,
   "metadata": {},
   "outputs": [
    {
     "data": {
      "text/plain": [
       "calculatedfinishedsquarefeet       17245.0\n",
       "taxvaluedollarcnt               23858374.0\n",
       "dtype: float64"
      ]
     },
     "execution_count": 6,
     "metadata": {},
     "output_type": "execute_result"
    }
   ],
   "source": [
    "# Take a look at the original max value of the features that I want adjust for outliers\n",
    "\n",
    "df[['calculatedfinishedsquarefeet', 'taxvaluedollarcnt']].max()"
   ]
  },
  {
   "cell_type": "markdown",
   "metadata": {},
   "source": [
    "### Takeaways:\n",
    "- This data set is rife with null values\n",
    "- There are many redundant columns (several square footage columns, several structural columns, etc)\n",
    "- There are some serious outliers that are skewing the values"
   ]
  },
  {
   "cell_type": "markdown",
   "metadata": {},
   "source": [
    "## Prepare"
   ]
  },
  {
   "cell_type": "markdown",
   "metadata": {},
   "source": [
    "### For prepare, I did the following:\n",
    "- renamed columns to make them understandable\n",
    "- dropped a total of 52 null/NAN, irrelevant, and redundant rows\n",
    "- removed outliers from appraisal_value and square_feet"
   ]
  },
  {
   "cell_type": "code",
   "execution_count": 7,
   "metadata": {},
   "outputs": [
    {
     "data": {
      "text/html": [
       "<div>\n",
       "<style scoped>\n",
       "    .dataframe tbody tr th:only-of-type {\n",
       "        vertical-align: middle;\n",
       "    }\n",
       "\n",
       "    .dataframe tbody tr th {\n",
       "        vertical-align: top;\n",
       "    }\n",
       "\n",
       "    .dataframe thead th {\n",
       "        text-align: right;\n",
       "    }\n",
       "</style>\n",
       "<table border=\"1\" class=\"dataframe\">\n",
       "  <thead>\n",
       "    <tr style=\"text-align: right;\">\n",
       "      <th></th>\n",
       "      <th>bathrooms</th>\n",
       "      <th>bedrooms</th>\n",
       "      <th>square_feet</th>\n",
       "      <th>fips</th>\n",
       "      <th>longitude</th>\n",
       "      <th>city</th>\n",
       "      <th>zip_code</th>\n",
       "      <th>year_built</th>\n",
       "      <th>appraisal_value</th>\n",
       "      <th>taxes</th>\n",
       "    </tr>\n",
       "  </thead>\n",
       "  <tbody>\n",
       "    <tr>\n",
       "      <td>0</td>\n",
       "      <td>2.0</td>\n",
       "      <td>3.0</td>\n",
       "      <td>1316.0</td>\n",
       "      <td>6037.0</td>\n",
       "      <td>-118.355396</td>\n",
       "      <td>12447.0</td>\n",
       "      <td>95997.0</td>\n",
       "      <td>1923.0</td>\n",
       "      <td>205123.0</td>\n",
       "      <td>2627.48</td>\n",
       "    </tr>\n",
       "    <tr>\n",
       "      <td>1</td>\n",
       "      <td>2.0</td>\n",
       "      <td>3.0</td>\n",
       "      <td>1458.0</td>\n",
       "      <td>6037.0</td>\n",
       "      <td>-118.113100</td>\n",
       "      <td>5534.0</td>\n",
       "      <td>97318.0</td>\n",
       "      <td>1970.0</td>\n",
       "      <td>136104.0</td>\n",
       "      <td>2319.90</td>\n",
       "    </tr>\n",
       "    <tr>\n",
       "      <td>2</td>\n",
       "      <td>1.0</td>\n",
       "      <td>2.0</td>\n",
       "      <td>1421.0</td>\n",
       "      <td>6037.0</td>\n",
       "      <td>-118.291863</td>\n",
       "      <td>12447.0</td>\n",
       "      <td>96018.0</td>\n",
       "      <td>1911.0</td>\n",
       "      <td>35606.0</td>\n",
       "      <td>543.69</td>\n",
       "    </tr>\n",
       "    <tr>\n",
       "      <td>3</td>\n",
       "      <td>3.0</td>\n",
       "      <td>4.0</td>\n",
       "      <td>2541.0</td>\n",
       "      <td>6059.0</td>\n",
       "      <td>-117.912245</td>\n",
       "      <td>38032.0</td>\n",
       "      <td>96958.0</td>\n",
       "      <td>2003.0</td>\n",
       "      <td>880456.0</td>\n",
       "      <td>9819.72</td>\n",
       "    </tr>\n",
       "    <tr>\n",
       "      <td>4</td>\n",
       "      <td>2.0</td>\n",
       "      <td>3.0</td>\n",
       "      <td>1491.0</td>\n",
       "      <td>6037.0</td>\n",
       "      <td>-118.338253</td>\n",
       "      <td>54722.0</td>\n",
       "      <td>96162.0</td>\n",
       "      <td>1955.0</td>\n",
       "      <td>107110.0</td>\n",
       "      <td>1399.27</td>\n",
       "    </tr>\n",
       "    <tr>\n",
       "      <td>...</td>\n",
       "      <td>...</td>\n",
       "      <td>...</td>\n",
       "      <td>...</td>\n",
       "      <td>...</td>\n",
       "      <td>...</td>\n",
       "      <td>...</td>\n",
       "      <td>...</td>\n",
       "      <td>...</td>\n",
       "      <td>...</td>\n",
       "      <td>...</td>\n",
       "    </tr>\n",
       "    <tr>\n",
       "      <td>28119</td>\n",
       "      <td>2.0</td>\n",
       "      <td>6.0</td>\n",
       "      <td>2634.0</td>\n",
       "      <td>6037.0</td>\n",
       "      <td>-118.298006</td>\n",
       "      <td>12447.0</td>\n",
       "      <td>95985.0</td>\n",
       "      <td>1921.0</td>\n",
       "      <td>878190.0</td>\n",
       "      <td>12766.88</td>\n",
       "    </tr>\n",
       "    <tr>\n",
       "      <td>28120</td>\n",
       "      <td>1.5</td>\n",
       "      <td>4.0</td>\n",
       "      <td>1187.0</td>\n",
       "      <td>6059.0</td>\n",
       "      <td>-118.015068</td>\n",
       "      <td>16764.0</td>\n",
       "      <td>96180.0</td>\n",
       "      <td>1959.0</td>\n",
       "      <td>465999.0</td>\n",
       "      <td>5552.68</td>\n",
       "    </tr>\n",
       "    <tr>\n",
       "      <td>28121</td>\n",
       "      <td>3.0</td>\n",
       "      <td>5.0</td>\n",
       "      <td>3015.0</td>\n",
       "      <td>6059.0</td>\n",
       "      <td>-117.578817</td>\n",
       "      <td>13693.0</td>\n",
       "      <td>96983.0</td>\n",
       "      <td>2002.0</td>\n",
       "      <td>852813.0</td>\n",
       "      <td>11662.88</td>\n",
       "    </tr>\n",
       "    <tr>\n",
       "      <td>28122</td>\n",
       "      <td>3.0</td>\n",
       "      <td>5.0</td>\n",
       "      <td>2992.0</td>\n",
       "      <td>6037.0</td>\n",
       "      <td>-118.554206</td>\n",
       "      <td>12447.0</td>\n",
       "      <td>96356.0</td>\n",
       "      <td>1977.0</td>\n",
       "      <td>1120000.0</td>\n",
       "      <td>13663.03</td>\n",
       "    </tr>\n",
       "    <tr>\n",
       "      <td>28123</td>\n",
       "      <td>3.0</td>\n",
       "      <td>3.0</td>\n",
       "      <td>1574.0</td>\n",
       "      <td>6037.0</td>\n",
       "      <td>-118.604879</td>\n",
       "      <td>12447.0</td>\n",
       "      <td>96346.0</td>\n",
       "      <td>1951.0</td>\n",
       "      <td>563463.0</td>\n",
       "      <td>6903.66</td>\n",
       "    </tr>\n",
       "  </tbody>\n",
       "</table>\n",
       "<p>24903 rows × 10 columns</p>\n",
       "</div>"
      ],
      "text/plain": [
       "       bathrooms  bedrooms  square_feet    fips   longitude     city  \\\n",
       "0            2.0       3.0       1316.0  6037.0 -118.355396  12447.0   \n",
       "1            2.0       3.0       1458.0  6037.0 -118.113100   5534.0   \n",
       "2            1.0       2.0       1421.0  6037.0 -118.291863  12447.0   \n",
       "3            3.0       4.0       2541.0  6059.0 -117.912245  38032.0   \n",
       "4            2.0       3.0       1491.0  6037.0 -118.338253  54722.0   \n",
       "...          ...       ...          ...     ...         ...      ...   \n",
       "28119        2.0       6.0       2634.0  6037.0 -118.298006  12447.0   \n",
       "28120        1.5       4.0       1187.0  6059.0 -118.015068  16764.0   \n",
       "28121        3.0       5.0       3015.0  6059.0 -117.578817  13693.0   \n",
       "28122        3.0       5.0       2992.0  6037.0 -118.554206  12447.0   \n",
       "28123        3.0       3.0       1574.0  6037.0 -118.604879  12447.0   \n",
       "\n",
       "       zip_code  year_built  appraisal_value     taxes  \n",
       "0       95997.0      1923.0         205123.0   2627.48  \n",
       "1       97318.0      1970.0         136104.0   2319.90  \n",
       "2       96018.0      1911.0          35606.0    543.69  \n",
       "3       96958.0      2003.0         880456.0   9819.72  \n",
       "4       96162.0      1955.0         107110.0   1399.27  \n",
       "...         ...         ...              ...       ...  \n",
       "28119   95985.0      1921.0         878190.0  12766.88  \n",
       "28120   96180.0      1959.0         465999.0   5552.68  \n",
       "28121   96983.0      2002.0         852813.0  11662.88  \n",
       "28122   96356.0      1977.0        1120000.0  13663.03  \n",
       "28123   96346.0      1951.0         563463.0   6903.66  \n",
       "\n",
       "[24903 rows x 10 columns]"
      ]
     },
     "execution_count": 7,
     "metadata": {},
     "output_type": "execute_result"
    }
   ],
   "source": [
    "# Use the clean_zillow funtion to drop columns, drop nulls, and address outliers\n",
    "\n",
    "df = prepare.clean_zillow(df)\n",
    "df"
   ]
  },
  {
   "cell_type": "code",
   "execution_count": 8,
   "metadata": {},
   "outputs": [
    {
     "name": "stdout",
     "output_type": "stream",
     "text": [
      "My cleaned dataframe is now coming in with 24903 rows and 10 columns.\n"
     ]
    }
   ],
   "source": [
    "# Take a look at my post-cleaning dataframe, which is much more manageable.\n",
    "\n",
    "print(f'My cleaned dataframe is now coming in with {df.shape[0]} rows and {df.shape[1]} columns.')"
   ]
  },
  {
   "cell_type": "code",
   "execution_count": 9,
   "metadata": {},
   "outputs": [
    {
     "name": "stdout",
     "output_type": "stream",
     "text": [
      "<class 'pandas.core.frame.DataFrame'>\n",
      "Int64Index: 24903 entries, 0 to 28123\n",
      "Data columns (total 10 columns):\n",
      "bathrooms          24903 non-null float64\n",
      "bedrooms           24903 non-null float64\n",
      "square_feet        24903 non-null float64\n",
      "fips               24903 non-null float64\n",
      "longitude          24903 non-null float64\n",
      "city               24903 non-null float64\n",
      "zip_code           24903 non-null float64\n",
      "year_built         24903 non-null float64\n",
      "appraisal_value    24903 non-null float64\n",
      "taxes              24903 non-null float64\n",
      "dtypes: float64(10)\n",
      "memory usage: 2.1 MB\n"
     ]
    }
   ],
   "source": [
    "# Take a more detailed look at my post-cleaning dataframe. I now have 24903 rows, all columns are either float \n",
    "# or int, and no nulls\n",
    "\n",
    "df.info()"
   ]
  },
  {
   "cell_type": "code",
   "execution_count": 10,
   "metadata": {},
   "outputs": [],
   "source": [
    "# Calculate the tax rate and add it as a column\n",
    "\n",
    "df['tax_rate'] = (df['taxes'] / df['appraisal_value'])"
   ]
  },
  {
   "cell_type": "markdown",
   "metadata": {},
   "source": [
    "## Deliverable: Where the Properties Are Located"
   ]
  },
  {
   "cell_type": "code",
   "execution_count": 11,
   "metadata": {},
   "outputs": [
    {
     "data": {
      "text/plain": [
       "array([6037., 6059., 6111.])"
      ]
     },
     "execution_count": 11,
     "metadata": {},
     "output_type": "execute_result"
    }
   ],
   "source": [
    "# The FIPS code shows that the data is based on 3 counties in Southern California: Los Angeles, Orange, and Ventura \n",
    "\n",
    "df['fips'].unique()"
   ]
  },
  {
   "cell_type": "code",
   "execution_count": 12,
   "metadata": {},
   "outputs": [
    {
     "data": {
      "text/html": [
       "<div>\n",
       "<style scoped>\n",
       "    .dataframe tbody tr th:only-of-type {\n",
       "        vertical-align: middle;\n",
       "    }\n",
       "\n",
       "    .dataframe tbody tr th {\n",
       "        vertical-align: top;\n",
       "    }\n",
       "\n",
       "    .dataframe thead th {\n",
       "        text-align: right;\n",
       "    }\n",
       "</style>\n",
       "<table border=\"1\" class=\"dataframe\">\n",
       "  <thead>\n",
       "    <tr style=\"text-align: right;\">\n",
       "      <th></th>\n",
       "      <th>bathrooms</th>\n",
       "      <th>bedrooms</th>\n",
       "      <th>square_feet</th>\n",
       "      <th>fips</th>\n",
       "      <th>longitude</th>\n",
       "      <th>city</th>\n",
       "      <th>zip_code</th>\n",
       "      <th>year_built</th>\n",
       "      <th>appraisal_value</th>\n",
       "      <th>taxes</th>\n",
       "      <th>tax_rate</th>\n",
       "      <th>county_name</th>\n",
       "    </tr>\n",
       "  </thead>\n",
       "  <tbody>\n",
       "    <tr>\n",
       "      <td>0</td>\n",
       "      <td>2.0</td>\n",
       "      <td>3.0</td>\n",
       "      <td>1316.0</td>\n",
       "      <td>6037.0</td>\n",
       "      <td>-118.355396</td>\n",
       "      <td>12447.0</td>\n",
       "      <td>95997.0</td>\n",
       "      <td>1923.0</td>\n",
       "      <td>205123.0</td>\n",
       "      <td>2627.48</td>\n",
       "      <td>0.012809</td>\n",
       "      <td>Los Angeles</td>\n",
       "    </tr>\n",
       "    <tr>\n",
       "      <td>1</td>\n",
       "      <td>2.0</td>\n",
       "      <td>3.0</td>\n",
       "      <td>1458.0</td>\n",
       "      <td>6037.0</td>\n",
       "      <td>-118.113100</td>\n",
       "      <td>5534.0</td>\n",
       "      <td>97318.0</td>\n",
       "      <td>1970.0</td>\n",
       "      <td>136104.0</td>\n",
       "      <td>2319.90</td>\n",
       "      <td>0.017045</td>\n",
       "      <td>Los Angeles</td>\n",
       "    </tr>\n",
       "    <tr>\n",
       "      <td>2</td>\n",
       "      <td>1.0</td>\n",
       "      <td>2.0</td>\n",
       "      <td>1421.0</td>\n",
       "      <td>6037.0</td>\n",
       "      <td>-118.291863</td>\n",
       "      <td>12447.0</td>\n",
       "      <td>96018.0</td>\n",
       "      <td>1911.0</td>\n",
       "      <td>35606.0</td>\n",
       "      <td>543.69</td>\n",
       "      <td>0.015270</td>\n",
       "      <td>Los Angeles</td>\n",
       "    </tr>\n",
       "    <tr>\n",
       "      <td>3</td>\n",
       "      <td>3.0</td>\n",
       "      <td>4.0</td>\n",
       "      <td>2541.0</td>\n",
       "      <td>6059.0</td>\n",
       "      <td>-117.912245</td>\n",
       "      <td>38032.0</td>\n",
       "      <td>96958.0</td>\n",
       "      <td>2003.0</td>\n",
       "      <td>880456.0</td>\n",
       "      <td>9819.72</td>\n",
       "      <td>0.011153</td>\n",
       "      <td>Orange</td>\n",
       "    </tr>\n",
       "    <tr>\n",
       "      <td>4</td>\n",
       "      <td>2.0</td>\n",
       "      <td>3.0</td>\n",
       "      <td>1491.0</td>\n",
       "      <td>6037.0</td>\n",
       "      <td>-118.338253</td>\n",
       "      <td>54722.0</td>\n",
       "      <td>96162.0</td>\n",
       "      <td>1955.0</td>\n",
       "      <td>107110.0</td>\n",
       "      <td>1399.27</td>\n",
       "      <td>0.013064</td>\n",
       "      <td>Los Angeles</td>\n",
       "    </tr>\n",
       "    <tr>\n",
       "      <td>...</td>\n",
       "      <td>...</td>\n",
       "      <td>...</td>\n",
       "      <td>...</td>\n",
       "      <td>...</td>\n",
       "      <td>...</td>\n",
       "      <td>...</td>\n",
       "      <td>...</td>\n",
       "      <td>...</td>\n",
       "      <td>...</td>\n",
       "      <td>...</td>\n",
       "      <td>...</td>\n",
       "      <td>...</td>\n",
       "    </tr>\n",
       "    <tr>\n",
       "      <td>28119</td>\n",
       "      <td>2.0</td>\n",
       "      <td>6.0</td>\n",
       "      <td>2634.0</td>\n",
       "      <td>6037.0</td>\n",
       "      <td>-118.298006</td>\n",
       "      <td>12447.0</td>\n",
       "      <td>95985.0</td>\n",
       "      <td>1921.0</td>\n",
       "      <td>878190.0</td>\n",
       "      <td>12766.88</td>\n",
       "      <td>0.014538</td>\n",
       "      <td>Los Angeles</td>\n",
       "    </tr>\n",
       "    <tr>\n",
       "      <td>28120</td>\n",
       "      <td>1.5</td>\n",
       "      <td>4.0</td>\n",
       "      <td>1187.0</td>\n",
       "      <td>6059.0</td>\n",
       "      <td>-118.015068</td>\n",
       "      <td>16764.0</td>\n",
       "      <td>96180.0</td>\n",
       "      <td>1959.0</td>\n",
       "      <td>465999.0</td>\n",
       "      <td>5552.68</td>\n",
       "      <td>0.011916</td>\n",
       "      <td>Orange</td>\n",
       "    </tr>\n",
       "    <tr>\n",
       "      <td>28121</td>\n",
       "      <td>3.0</td>\n",
       "      <td>5.0</td>\n",
       "      <td>3015.0</td>\n",
       "      <td>6059.0</td>\n",
       "      <td>-117.578817</td>\n",
       "      <td>13693.0</td>\n",
       "      <td>96983.0</td>\n",
       "      <td>2002.0</td>\n",
       "      <td>852813.0</td>\n",
       "      <td>11662.88</td>\n",
       "      <td>0.013676</td>\n",
       "      <td>Orange</td>\n",
       "    </tr>\n",
       "    <tr>\n",
       "      <td>28122</td>\n",
       "      <td>3.0</td>\n",
       "      <td>5.0</td>\n",
       "      <td>2992.0</td>\n",
       "      <td>6037.0</td>\n",
       "      <td>-118.554206</td>\n",
       "      <td>12447.0</td>\n",
       "      <td>96356.0</td>\n",
       "      <td>1977.0</td>\n",
       "      <td>1120000.0</td>\n",
       "      <td>13663.03</td>\n",
       "      <td>0.012199</td>\n",
       "      <td>Los Angeles</td>\n",
       "    </tr>\n",
       "    <tr>\n",
       "      <td>28123</td>\n",
       "      <td>3.0</td>\n",
       "      <td>3.0</td>\n",
       "      <td>1574.0</td>\n",
       "      <td>6037.0</td>\n",
       "      <td>-118.604879</td>\n",
       "      <td>12447.0</td>\n",
       "      <td>96346.0</td>\n",
       "      <td>1951.0</td>\n",
       "      <td>563463.0</td>\n",
       "      <td>6903.66</td>\n",
       "      <td>0.012252</td>\n",
       "      <td>Los Angeles</td>\n",
       "    </tr>\n",
       "  </tbody>\n",
       "</table>\n",
       "<p>24903 rows × 12 columns</p>\n",
       "</div>"
      ],
      "text/plain": [
       "       bathrooms  bedrooms  square_feet    fips   longitude     city  \\\n",
       "0            2.0       3.0       1316.0  6037.0 -118.355396  12447.0   \n",
       "1            2.0       3.0       1458.0  6037.0 -118.113100   5534.0   \n",
       "2            1.0       2.0       1421.0  6037.0 -118.291863  12447.0   \n",
       "3            3.0       4.0       2541.0  6059.0 -117.912245  38032.0   \n",
       "4            2.0       3.0       1491.0  6037.0 -118.338253  54722.0   \n",
       "...          ...       ...          ...     ...         ...      ...   \n",
       "28119        2.0       6.0       2634.0  6037.0 -118.298006  12447.0   \n",
       "28120        1.5       4.0       1187.0  6059.0 -118.015068  16764.0   \n",
       "28121        3.0       5.0       3015.0  6059.0 -117.578817  13693.0   \n",
       "28122        3.0       5.0       2992.0  6037.0 -118.554206  12447.0   \n",
       "28123        3.0       3.0       1574.0  6037.0 -118.604879  12447.0   \n",
       "\n",
       "       zip_code  year_built  appraisal_value     taxes  tax_rate  county_name  \n",
       "0       95997.0      1923.0         205123.0   2627.48  0.012809  Los Angeles  \n",
       "1       97318.0      1970.0         136104.0   2319.90  0.017045  Los Angeles  \n",
       "2       96018.0      1911.0          35606.0    543.69  0.015270  Los Angeles  \n",
       "3       96958.0      2003.0         880456.0   9819.72  0.011153       Orange  \n",
       "4       96162.0      1955.0         107110.0   1399.27  0.013064  Los Angeles  \n",
       "...         ...         ...              ...       ...       ...          ...  \n",
       "28119   95985.0      1921.0         878190.0  12766.88  0.014538  Los Angeles  \n",
       "28120   96180.0      1959.0         465999.0   5552.68  0.011916       Orange  \n",
       "28121   96983.0      2002.0         852813.0  11662.88  0.013676       Orange  \n",
       "28122   96356.0      1977.0        1120000.0  13663.03  0.012199  Los Angeles  \n",
       "28123   96346.0      1951.0         563463.0   6903.66  0.012252  Los Angeles  \n",
       "\n",
       "[24903 rows x 12 columns]"
      ]
     },
     "execution_count": 12,
     "metadata": {},
     "output_type": "execute_result"
    }
   ],
   "source": [
    "# Add the name of the county based on the FIPS numbers from the db\n",
    "\n",
    "df['county_name'] = df['fips'].map({6037: 'Los Angeles', 6059: 'Orange', 6111: 'Ventura'})\n",
    "df"
   ]
  },
  {
   "cell_type": "markdown",
   "metadata": {},
   "source": [
    "## Deliverable: the Distribution of Tax Rates for Each County"
   ]
  },
  {
   "cell_type": "code",
   "execution_count": 13,
   "metadata": {},
   "outputs": [
    {
     "data": {
      "text/html": [
       "<div>\n",
       "<style scoped>\n",
       "    .dataframe tbody tr th:only-of-type {\n",
       "        vertical-align: middle;\n",
       "    }\n",
       "\n",
       "    .dataframe tbody tr th {\n",
       "        vertical-align: top;\n",
       "    }\n",
       "\n",
       "    .dataframe thead th {\n",
       "        text-align: right;\n",
       "    }\n",
       "</style>\n",
       "<table border=\"1\" class=\"dataframe\">\n",
       "  <thead>\n",
       "    <tr style=\"text-align: right;\">\n",
       "      <th></th>\n",
       "      <th>tax_rate</th>\n",
       "    </tr>\n",
       "    <tr>\n",
       "      <th>county_name</th>\n",
       "      <th></th>\n",
       "    </tr>\n",
       "  </thead>\n",
       "  <tbody>\n",
       "    <tr>\n",
       "      <td>Los Angeles</td>\n",
       "      <td>0.013</td>\n",
       "    </tr>\n",
       "    <tr>\n",
       "      <td>Orange</td>\n",
       "      <td>0.012</td>\n",
       "    </tr>\n",
       "    <tr>\n",
       "      <td>Ventura</td>\n",
       "      <td>0.011</td>\n",
       "    </tr>\n",
       "  </tbody>\n",
       "</table>\n",
       "</div>"
      ],
      "text/plain": [
       "             tax_rate\n",
       "county_name          \n",
       "Los Angeles     0.013\n",
       "Orange          0.012\n",
       "Ventura         0.011"
      ]
     },
     "execution_count": 13,
     "metadata": {},
     "output_type": "execute_result"
    }
   ],
   "source": [
    "# Showing the median tax rate per county\n",
    "\n",
    "county_median_tax_rate = pd.DataFrame(round(df.groupby('county_name').tax_rate.median(), 3))\n",
    "county_median_tax_rate.columns = ['tax_rate']\n",
    "county_median_tax_rate"
   ]
  },
  {
   "cell_type": "code",
   "execution_count": 14,
   "metadata": {},
   "outputs": [],
   "source": [
    "# Visualize the tax distribution by county\n",
    "\n",
    "los_angeles_tax_dist = df[df.county_name == \"Los Angeles\"].tax_rate\n",
    "orange_tax_dist = df[df.county_name == \"Orange\"].tax_rate\n",
    "ventura_tax_dist = df[df.county_name == \"Ventura\"].tax_rate"
   ]
  },
  {
   "cell_type": "code",
   "execution_count": 15,
   "metadata": {},
   "outputs": [
    {
     "data": {
      "text/plain": [
       "count    15961.000000\n",
       "mean         0.014235\n",
       "std          0.009007\n",
       "min          0.000857\n",
       "25%          0.012189\n",
       "50%          0.012747\n",
       "75%          0.014591\n",
       "max          0.816490\n",
       "Name: tax_rate, dtype: float64"
      ]
     },
     "execution_count": 15,
     "metadata": {},
     "output_type": "execute_result"
    }
   ],
   "source": [
    "los_angeles_tax_dist.describe()"
   ]
  },
  {
   "cell_type": "code",
   "execution_count": 16,
   "metadata": {},
   "outputs": [
    {
     "data": {
      "image/png": "[encoded data removed]",
      "text/plain": [
       "<Figure size 720x432 with 3 Axes>"
      ]
     },
     "metadata": {
      "needs_background": "light"
     },
     "output_type": "display_data"
    }
   ],
   "source": [
    "# Visualization showing side-by-side comparison of County Tax Rate\n",
    "\n",
    "plt.figure(figsize=(10,6))\n",
    "\n",
    "plt.subplot(1,3,1)\n",
    "sns.distplot(los_angeles_tax_dist, bins=50, kde=True, rug=True)\n",
    "plt.xlim(0, .10)\n",
    "plt.ylim(0, 300)\n",
    "plt.title(\"Los Angeles County Tax Distribution\")\n",
    "\n",
    "plt.subplot(1,3,2)\n",
    "sns.distplot(orange_tax_dist, bins=50, kde=True, rug=True, color='orange')\n",
    "plt.xlim(0, .10)\n",
    "plt.ylim(0, 300)\n",
    "plt.title(\"Orange County Tax Distribution\")\n",
    "\n",
    "plt.subplot(1,3,3)\n",
    "sns.distplot(ventura_tax_dist, bins=50, kde=True, rug=True, color='green')\n",
    "plt.xlim(0, .10)\n",
    "plt.ylim(0, 300)\n",
    "plt.title(\"Ventura County Tax Distribution\")\n",
    "\n",
    "plt.tight_layout()\n",
    "\n",
    "plt.show()"
   ]
  },
  {
   "cell_type": "code",
   "execution_count": 17,
   "metadata": {},
   "outputs": [
    {
     "data": {
      "text/html": [
       "<div>\n",
       "<style scoped>\n",
       "    .dataframe tbody tr th:only-of-type {\n",
       "        vertical-align: middle;\n",
       "    }\n",
       "\n",
       "    .dataframe tbody tr th {\n",
       "        vertical-align: top;\n",
       "    }\n",
       "\n",
       "    .dataframe thead th {\n",
       "        text-align: right;\n",
       "    }\n",
       "</style>\n",
       "<table border=\"1\" class=\"dataframe\">\n",
       "  <thead>\n",
       "    <tr style=\"text-align: right;\">\n",
       "      <th></th>\n",
       "      <th>bedrooms</th>\n",
       "      <th>bathrooms</th>\n",
       "      <th>square_feet</th>\n",
       "      <th>appraisal_value</th>\n",
       "    </tr>\n",
       "  </thead>\n",
       "  <tbody>\n",
       "    <tr>\n",
       "      <td>0</td>\n",
       "      <td>3.0</td>\n",
       "      <td>2.0</td>\n",
       "      <td>1316.0</td>\n",
       "      <td>205123.0</td>\n",
       "    </tr>\n",
       "    <tr>\n",
       "      <td>1</td>\n",
       "      <td>3.0</td>\n",
       "      <td>2.0</td>\n",
       "      <td>1458.0</td>\n",
       "      <td>136104.0</td>\n",
       "    </tr>\n",
       "    <tr>\n",
       "      <td>2</td>\n",
       "      <td>2.0</td>\n",
       "      <td>1.0</td>\n",
       "      <td>1421.0</td>\n",
       "      <td>35606.0</td>\n",
       "    </tr>\n",
       "    <tr>\n",
       "      <td>3</td>\n",
       "      <td>4.0</td>\n",
       "      <td>3.0</td>\n",
       "      <td>2541.0</td>\n",
       "      <td>880456.0</td>\n",
       "    </tr>\n",
       "    <tr>\n",
       "      <td>4</td>\n",
       "      <td>3.0</td>\n",
       "      <td>2.0</td>\n",
       "      <td>1491.0</td>\n",
       "      <td>107110.0</td>\n",
       "    </tr>\n",
       "  </tbody>\n",
       "</table>\n",
       "</div>"
      ],
      "text/plain": [
       "   bedrooms  bathrooms  square_feet  appraisal_value\n",
       "0       3.0        2.0       1316.0         205123.0\n",
       "1       3.0        2.0       1458.0         136104.0\n",
       "2       2.0        1.0       1421.0          35606.0\n",
       "3       4.0        3.0       2541.0         880456.0\n",
       "4       3.0        2.0       1491.0         107110.0"
      ]
     },
     "execution_count": 17,
     "metadata": {},
     "output_type": "execute_result"
    }
   ],
   "source": [
    "# After reviewing the pairwise correlations, I've decided on my features \n",
    "\n",
    "features = [\n",
    "    \"bedrooms\",\n",
    "    \"bathrooms\",\n",
    "    \"square_feet\",\n",
    "    \"appraisal_value\"\n",
    "]\n",
    "\n",
    "df = df[features]\n",
    "df.head()"
   ]
  },
  {
   "cell_type": "code",
   "execution_count": 18,
   "metadata": {},
   "outputs": [
    {
     "data": {
      "text/html": [
       "<div>\n",
       "<style scoped>\n",
       "    .dataframe tbody tr th:only-of-type {\n",
       "        vertical-align: middle;\n",
       "    }\n",
       "\n",
       "    .dataframe tbody tr th {\n",
       "        vertical-align: top;\n",
       "    }\n",
       "\n",
       "    .dataframe thead th {\n",
       "        text-align: right;\n",
       "    }\n",
       "</style>\n",
       "<table border=\"1\" class=\"dataframe\">\n",
       "  <thead>\n",
       "    <tr style=\"text-align: right;\">\n",
       "      <th></th>\n",
       "      <th>square_feet</th>\n",
       "      <th>appraisal_value</th>\n",
       "    </tr>\n",
       "  </thead>\n",
       "  <tbody>\n",
       "    <tr>\n",
       "      <td>count</td>\n",
       "      <td>24903.000000</td>\n",
       "      <td>2.490300e+04</td>\n",
       "    </tr>\n",
       "    <tr>\n",
       "      <td>mean</td>\n",
       "      <td>1721.093724</td>\n",
       "      <td>3.888111e+05</td>\n",
       "    </tr>\n",
       "    <tr>\n",
       "      <td>std</td>\n",
       "      <td>630.290238</td>\n",
       "      <td>2.637075e+05</td>\n",
       "    </tr>\n",
       "    <tr>\n",
       "      <td>min</td>\n",
       "      <td>240.000000</td>\n",
       "      <td>1.000000e+03</td>\n",
       "    </tr>\n",
       "    <tr>\n",
       "      <td>25%</td>\n",
       "      <td>1244.000000</td>\n",
       "      <td>1.788455e+05</td>\n",
       "    </tr>\n",
       "    <tr>\n",
       "      <td>50%</td>\n",
       "      <td>1592.000000</td>\n",
       "      <td>3.448350e+05</td>\n",
       "    </tr>\n",
       "    <tr>\n",
       "      <td>75%</td>\n",
       "      <td>2101.000000</td>\n",
       "      <td>5.405470e+05</td>\n",
       "    </tr>\n",
       "    <tr>\n",
       "      <td>max</td>\n",
       "      <td>3533.000000</td>\n",
       "      <td>1.273707e+06</td>\n",
       "    </tr>\n",
       "  </tbody>\n",
       "</table>\n",
       "</div>"
      ],
      "text/plain": [
       "        square_feet  appraisal_value\n",
       "count  24903.000000     2.490300e+04\n",
       "mean    1721.093724     3.888111e+05\n",
       "std      630.290238     2.637075e+05\n",
       "min      240.000000     1.000000e+03\n",
       "25%     1244.000000     1.788455e+05\n",
       "50%     1592.000000     3.448350e+05\n",
       "75%     2101.000000     5.405470e+05\n",
       "max     3533.000000     1.273707e+06"
      ]
     },
     "execution_count": 18,
     "metadata": {},
     "output_type": "execute_result"
    }
   ],
   "source": [
    "# Take a look at 'square_feet', 'appraisal_value' with the outliers removed\n",
    "\n",
    "df[['square_feet', 'appraisal_value']].describe()"
   ]
  },
  {
   "cell_type": "code",
   "execution_count": 19,
   "metadata": {},
   "outputs": [
    {
     "data": {
      "image/png": "[encoded data removed]",
      "text/plain": [
       "<Figure size 1800x1080 with 4 Axes>"
      ]
     },
     "metadata": {
      "needs_background": "light"
     },
     "output_type": "display_data"
    }
   ],
   "source": [
    "# Construct a figure with subplots of histograms of features\n",
    "\n",
    "# Sets size, can adjust \n",
    "plt.subplots(figsize=(25, 15))\n",
    "\n",
    "plt.subplot(2,2,1);\n",
    "line1 = plt.hist(df.square_feet)\n",
    "plt.title('square feet');\n",
    "\n",
    "plt.subplot(2,2,2);\n",
    "line2 = plt.hist(df.bedrooms);\n",
    "plt.title('bed_count');\n",
    "\n",
    "plt.subplot(2,2,3);\n",
    "line3 = plt.hist(df.bathrooms);\n",
    "plt.title('bath_count');\n",
    "\n",
    "plt.subplot(2,2,4);\n",
    "line3 = plt.hist(df.appraisal_value);\n",
    "plt.title('tax_value');"
   ]
  },
  {
   "cell_type": "code",
   "execution_count": 20,
   "metadata": {},
   "outputs": [
    {
     "name": "stdout",
     "output_type": "stream",
     "text": [
      "train shape:  (17929, 4) , validate shape:  (4483, 4) , test shape:  (2491, 4)\n"
     ]
    }
   ],
   "source": [
    "# Split the data into train, validate, and test and then confirm the shape of the split sets\n",
    "\n",
    "train, validate, test = prepare.split(df)"
   ]
  },
  {
   "cell_type": "code",
   "execution_count": null,
   "metadata": {},
   "outputs": [],
   "source": [
    "sns.heatmap(df.corr(),cmap=\"Blues\")"
   ]
  },
  {
   "cell_type": "code",
   "execution_count": null,
   "metadata": {},
   "outputs": [],
   "source": [
    "sns.pairplot(df, corner=True)"
   ]
  },
  {
   "cell_type": "code",
   "execution_count": null,
   "metadata": {},
   "outputs": [],
   "source": [
    "# Visualize the original variables versus the scaled variables\n",
    "\n",
    "plt.figure(figsize=(15, 10))\n",
    "\n",
    "plt.subplot(321)\n",
    "plt.hist(train.square_feet, bins=25, ec='black')\n",
    "plt.title('Original Square Feet')\n",
    "plt.subplot(322)\n",
    "plt.hist(train.square_feet_scaled, bins=25, ec='black')\n",
    "plt.title('MinMax Scaled Square Feet')\n",
    "\n",
    "plt.subplot(323)\n",
    "plt.hist(train.bedrooms, bins=25, ec='black')\n",
    "plt.title('Original Bed Count')\n",
    "plt.subplot(324)\n",
    "plt.hist(train.bedrooms_scaled, bins=25, ec='black')\n",
    "plt.title('MinMax Scaled Bed Count')\n",
    "\n",
    "plt.subplot(325)\n",
    "plt.hist(train.bathrooms, bins=25, ec='black')\n",
    "plt.title('Original Bath Count')\n",
    "plt.subplot(326)\n",
    "plt.hist(train.bathrooms_scaled, bins=25, ec='black')\n",
    "plt.title('MinMax Scaled Bath Count')"
   ]
  },
  {
   "cell_type": "markdown",
   "metadata": {},
   "source": [
    "### Takeaways:\n"
   ]
  },
  {
   "cell_type": "markdown",
   "metadata": {},
   "source": [
    "## Explore"
   ]
  },
  {
   "cell_type": "code",
   "execution_count": 21,
   "metadata": {},
   "outputs": [],
   "source": [
    "def plot_variable_pairs_regline(train, hue=None):\n",
    "    '''\n",
    "    This function takes in a df and default hue=None and displays a pairplot\n",
    "    with a red regression line.\n",
    "    '''\n",
    "    plot_kws={'line_kws':{'color':'red'}, \n",
    "              'scatter_kws': {'alpha': 0.7}}\n",
    "    sns.pairplot(train.drop(['square_feet','bedrooms','bathrooms'],axis=1), hue=hue, kind=\"reg\", plot_kws={'line_kws':{'color':'red'}, \n",
    "                                                    'scatter_kws': {'alpha': 0.1}})"
   ]
  },
  {
   "cell_type": "code",
   "execution_count": 22,
   "metadata": {},
   "outputs": [
    {
     "data": {
      "image/png": "[encoded data removed]",
      "text/plain": [
       "<Figure size 720x720 with 20 Axes>"
      ]
     },
     "metadata": {
      "needs_background": "light"
     },
     "output_type": "display_data"
    }
   ],
   "source": [
    "plot_variable_pairs_regline(train, hue=None)"
   ]
  },
  {
   "cell_type": "markdown",
   "metadata": {},
   "source": [
    "### T-Test: Does the Square-footage of a home affect Tax Value?"
   ]
  },
  {
   "cell_type": "markdown",
   "metadata": {},
   "source": [
    "$H_0$: The average price of homes with 3000 sq.ft. or more is equal to the average price of homes with 3000 sq.ft. or less.\n",
    "\n",
    "$H_A$: Homes with 3000 sq.ft. or more have higher than average tax dollar count."
   ]
  },
  {
   "cell_type": "code",
   "execution_count": 23,
   "metadata": {},
   "outputs": [
    {
     "name": "stdout",
     "output_type": "stream",
     "text": [
      "Because p (0.0000) < alpha (.05), we reject the Null Hypothesis\n",
      "3.1891855852129888e-301\n"
     ]
    }
   ],
   "source": [
    "# Perform the T-Test\n",
    "\n",
    "df_less_than_3000 = train[train.square_feet <= 3000]\n",
    "df_greater_than_3000 = train[train.square_feet > 3000]\n",
    "\n",
    "a = df_less_than_3000.appraisal_value.mean()\n",
    "b = df_greater_than_3000.appraisal_value.mean()\n",
    "\n",
    "t, p = ttest_ind(df_greater_than_3000.appraisal_value,\n",
    "                df_less_than_3000.appraisal_value)\n",
    "\n",
    "if p > a:\n",
    "    print(f'''Because p ({p:.4f}) > alpha (.05), we fail to reject the Null Hypothesis''')\n",
    "else:\n",
    "    print(f'''Because p ({p:.4f}) < alpha (.05), we reject the Null Hypothesis''')\n",
    "print(p)"
   ]
  },
  {
   "cell_type": "code",
   "execution_count": 24,
   "metadata": {},
   "outputs": [
    {
     "data": {
      "text/plain": [
       "374044.1247291679"
      ]
     },
     "execution_count": 24,
     "metadata": {},
     "output_type": "execute_result"
    }
   ],
   "source": [
    "# View/confirm values\n",
    "\n",
    "df_less_than_3000.appraisal_value.mean()"
   ]
  },
  {
   "cell_type": "code",
   "execution_count": 25,
   "metadata": {},
   "outputs": [
    {
     "data": {
      "text/plain": [
       "709520.8896713615"
      ]
     },
     "execution_count": 25,
     "metadata": {},
     "output_type": "execute_result"
    }
   ],
   "source": [
    "# View/confirm values\n",
    "\n",
    "df_greater_than_3000.appraisal_value.mean()"
   ]
  },
  {
   "cell_type": "markdown",
   "metadata": {},
   "source": [
    "### Correlation Test1: Are the number of bathrooms related to the house value?"
   ]
  },
  {
   "cell_type": "markdown",
   "metadata": {},
   "source": [
    "$H_0$: The number of bathrooms is independent to the value of the home \n",
    "\n",
    "$H_A$: The number of bathrooms is related to the value of the home"
   ]
  },
  {
   "cell_type": "code",
   "execution_count": 61,
   "metadata": {},
   "outputs": [
    {
     "name": "stdout",
     "output_type": "stream",
     "text": [
      "0.39033293286526277 0.0\n",
      "Because p (0.0000) < alpha (.05), we reject the Null Hypothesis\n"
     ]
    }
   ],
   "source": [
    "confidence_interval = 0.95\n",
    "a = 1 - confidence_interval \n",
    "\n",
    "corr, p = stats.pearsonr(train.bathrooms, train.appraisal_value)\n",
    "print(corr, p)\n",
    "\n",
    "if p > a:\n",
    "    print(f'''Because p ({p:.4f}) > alpha (.05), we fail to reject the Null Hypothesis''')\n",
    "else:\n",
    "    print(f'''Because p ({p:.4f}) < alpha (.05), we reject the Null Hypothesis''')"
   ]
  },
  {
   "cell_type": "markdown",
   "metadata": {},
   "source": [
    "### Correlation Test2: Are the number of bedrooms related to the house value?"
   ]
  },
  {
   "cell_type": "markdown",
   "metadata": {},
   "source": [
    "$H_0$: The number of bedrooms is independent to the value of the home \n",
    "\n",
    "$H_A$: The number of bedrooms is related to the value of the home"
   ]
  },
  {
   "cell_type": "code",
   "execution_count": 57,
   "metadata": {},
   "outputs": [
    {
     "name": "stdout",
     "output_type": "stream",
     "text": [
      "0.2133255333564658 1.3660324506027073e-183\n",
      "Because p (0.0000) < alpha (.05), we reject the Null Hypothesis\n"
     ]
    }
   ],
   "source": [
    "# Perform the Correlation Test\n",
    "\n",
    "corr, p = stats.pearsonr(train.bedrooms, train.appraisal_value)\n",
    "print(corr, p)\n",
    "\n",
    "if p > a:\n",
    "    print(f'''Because p ({p:.4f}) > alpha (.05), we fail to reject the Null Hypothesis''')\n",
    "else:\n",
    "    print(f'''Because p ({p:.4f}) < alpha (.05), we reject the Null Hypothesis''')"
   ]
  },
  {
   "cell_type": "markdown",
   "metadata": {},
   "source": [
    "### Takeaways: "
   ]
  },
  {
   "cell_type": "markdown",
   "metadata": {},
   "source": [
    "## Modeling"
   ]
  },
  {
   "cell_type": "code",
   "execution_count": 63,
   "metadata": {},
   "outputs": [],
   "source": [
    "y_train = train[['appraisal_value']]\n",
    "y_validate = validate[['appraisal_value']]\n",
    "y_test = test[['appraisal_value']]"
   ]
  },
  {
   "cell_type": "code",
   "execution_count": 69,
   "metadata": {},
   "outputs": [
    {
     "name": "stdout",
     "output_type": "stream",
     "text": [
      "RMSE using Mean\n",
      "Train/In-Sample:  262559.26 \n",
      "Validate/Out-of-Sample:  267188.29\n",
      "RMSE using Median\n",
      "Train/In-Sample:  266061.64 \n",
      "Validate/Out-of-Sample:  270034.5\n"
     ]
    }
   ],
   "source": [
    "# Establish my baseline\n",
    "\n",
    "# 1. Compute appraisal_value_pred_mean\n",
    "appraisal_value_pred_mean = y_train.appraisal_value.mean()\n",
    "y_train['appraisal_value_pred_mean'] = appraisal_value_pred_mean\n",
    "y_validate['appraisal_value_pred_mean'] = appraisal_value_pred_mean\n",
    "\n",
    "# 2. Compute appraisal_value_pred_median\n",
    "appraisal_value_pred_median = y_train.appraisal_value.median()\n",
    "y_train['appraisal_value_pred_median'] = appraisal_value_pred_median\n",
    "y_validate['appraisal_value_pred_median'] = appraisal_value_pred_median\n",
    "\n",
    "# 3. RMSE of appraisal_value_pred_mean\n",
    "rmse_train = mean_squared_error(y_train.appraisal_value, y_train.appraisal_value_pred_mean) ** .5\n",
    "rmse_validate = mean_squared_error(y_validate.appraisal_value, y_validate.appraisal_value_pred_mean) ** .5\n",
    "\n",
    "print(\"RMSE using Mean\\nTrain/In-Sample: \", round(rmse_train, 2), \n",
    "      \"\\nValidate/Out-of-Sample: \", round(rmse_validate, 2))\n",
    "\n",
    "# 4. RMSE of appraisal_value_pred_median\n",
    "rmse_train = mean_squared_error(y_train.appraisal_value, y_train.appraisal_value_pred_median) ** .5\n",
    "rmse_validate = mean_squared_error(y_validate.appraisal_value, y_validate.appraisal_value_pred_median) ** .5\n",
    "print(\"RMSE using Median\\nTrain/In-Sample: \", round(rmse_train, 2), \n",
    "      \"\\nValidate/Out-of-Sample: \", round(rmse_validate, 2))"
   ]
  },
  {
   "cell_type": "code",
   "execution_count": null,
   "metadata": {},
   "outputs": [],
   "source": []
  }
 ],
 "metadata": {
  "kernelspec": {
   "display_name": "Python 3",
   "language": "python",
   "name": "python3"
  },
  "language_info": {
   "codemirror_mode": {
    "name": "ipython",
    "version": 3
   },
   "file_extension": ".py",
   "mimetype": "text/x-python",
   "name": "python",
   "nbconvert_exporter": "python",
   "pygments_lexer": "ipython3",
   "version": "3.7.4"
  }
 },
 "nbformat": 4,
 "nbformat_minor": 4
}
