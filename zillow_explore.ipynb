{
 "cells": [
  {
   "cell_type": "markdown",
   "metadata": {},
   "source": [
    "## Purpose of this notebook:\n",
    "- Provide a model that can predict the home value of single unit properties that the tax district assessed during the  months of May through August 2017, using number of bedrooms, number of bathrooms, and square feet of the property as features\n",
    "- Create and evaluate different models to find the effectiveness of the selected features\n",
    "- Using the FIPS numbers, find the specific county for each home in the data, and create a seperate dataframe to display the tax rate for each county\n",
    "- Provide insights into the decisions regarding features, models, etc. that went in the project\n",
    "\n"
   ]
  },
  {
   "cell_type": "code",
   "execution_count": 1,
   "metadata": {},
   "outputs": [],
   "source": [
    "# imports\n",
    "\n",
    "import matplotlib.pyplot as plt\n",
    "import seaborn as sns\n",
    "\n",
    "import pandas as pd\n",
    "import numpy as np\n",
    "import matplotlib.pyplot as plt\n",
    "import seaborn as sns\n",
    "from sklearn.model_selection import train_test_split\n",
    "import sklearn.preprocessing\n",
    "import warnings\n",
    "warnings.filterwarnings(\"ignore\")\n",
    "\n",
    "import env\n",
    "import acquire\n",
    "import prepare"
   ]
  },
  {
   "cell_type": "markdown",
   "metadata": {},
   "source": [
    "## Acquire"
   ]
  },
  {
   "cell_type": "code",
   "execution_count": 2,
   "metadata": {},
   "outputs": [],
   "source": [
    "# acquire data \n",
    "\n",
    "df = acquire.get_zillow_data()"
   ]
  },
  {
   "cell_type": "code",
   "execution_count": null,
   "metadata": {},
   "outputs": [],
   "source": [
    "# Take a look at the data\n",
    "\n",
    "df.head()"
   ]
  },
  {
   "cell_type": "code",
   "execution_count": null,
   "metadata": {},
   "outputs": [],
   "source": [
    "# Print a structured shape of the original data\n",
    "\n",
    "print(f'My original dataframe is coming in with {df.shape[0]} rows and {df.shape[1]} columns.')"
   ]
  },
  {
   "cell_type": "code",
   "execution_count": null,
   "metadata": {},
   "outputs": [],
   "source": [
    "# Looking at the columns with more detail\n",
    "\n",
    "df.info()"
   ]
  },
  {
   "cell_type": "code",
   "execution_count": null,
   "metadata": {},
   "outputs": [],
   "source": [
    "# Take a look at the original max value of the features that I want adjust for outliers\n",
    "\n",
    "df[['calculatedfinishedsquarefeet', 'taxvaluedollarcnt']].max()"
   ]
  },
  {
   "cell_type": "markdown",
   "metadata": {},
   "source": [
    "### Takeaways:\n",
    "- This data set is rife with null values\n",
    "- There are many redundant columns (several square footage columns, several structural columns, etc)\n",
    "- There are some serious outliers that are skewing the values"
   ]
  },
  {
   "cell_type": "markdown",
   "metadata": {},
   "source": [
    "## Prepare"
   ]
  },
  {
   "cell_type": "markdown",
   "metadata": {},
   "source": [
    "### For prepare, I did the following:\n",
    "- renamed columns to make them understandable\n",
    "- dropped a total of 52 null/NAN, irrelevant, and redundant rows\n",
    "- removed outliers from appraisal_value and square_feet"
   ]
  },
  {
   "cell_type": "code",
   "execution_count": 3,
   "metadata": {},
   "outputs": [
    {
     "data": {
      "text/html": [
       "<div>\n",
       "<style scoped>\n",
       "    .dataframe tbody tr th:only-of-type {\n",
       "        vertical-align: middle;\n",
       "    }\n",
       "\n",
       "    .dataframe tbody tr th {\n",
       "        vertical-align: top;\n",
       "    }\n",
       "\n",
       "    .dataframe thead th {\n",
       "        text-align: right;\n",
       "    }\n",
       "</style>\n",
       "<table border=\"1\" class=\"dataframe\">\n",
       "  <thead>\n",
       "    <tr style=\"text-align: right;\">\n",
       "      <th></th>\n",
       "      <th>bathrooms</th>\n",
       "      <th>bedrooms</th>\n",
       "      <th>square_feet</th>\n",
       "      <th>fips</th>\n",
       "      <th>longitude</th>\n",
       "      <th>city</th>\n",
       "      <th>zip_code</th>\n",
       "      <th>year_built</th>\n",
       "      <th>appraisal_value</th>\n",
       "      <th>taxes</th>\n",
       "    </tr>\n",
       "  </thead>\n",
       "  <tbody>\n",
       "    <tr>\n",
       "      <td>0</td>\n",
       "      <td>2.0</td>\n",
       "      <td>3.0</td>\n",
       "      <td>1316.0</td>\n",
       "      <td>6037.0</td>\n",
       "      <td>-118.355396</td>\n",
       "      <td>12447.0</td>\n",
       "      <td>95997.0</td>\n",
       "      <td>1923.0</td>\n",
       "      <td>205123.0</td>\n",
       "      <td>2627.48</td>\n",
       "    </tr>\n",
       "    <tr>\n",
       "      <td>1</td>\n",
       "      <td>2.0</td>\n",
       "      <td>3.0</td>\n",
       "      <td>1458.0</td>\n",
       "      <td>6037.0</td>\n",
       "      <td>-118.113100</td>\n",
       "      <td>5534.0</td>\n",
       "      <td>97318.0</td>\n",
       "      <td>1970.0</td>\n",
       "      <td>136104.0</td>\n",
       "      <td>2319.90</td>\n",
       "    </tr>\n",
       "    <tr>\n",
       "      <td>2</td>\n",
       "      <td>1.0</td>\n",
       "      <td>2.0</td>\n",
       "      <td>1421.0</td>\n",
       "      <td>6037.0</td>\n",
       "      <td>-118.291863</td>\n",
       "      <td>12447.0</td>\n",
       "      <td>96018.0</td>\n",
       "      <td>1911.0</td>\n",
       "      <td>35606.0</td>\n",
       "      <td>543.69</td>\n",
       "    </tr>\n",
       "    <tr>\n",
       "      <td>3</td>\n",
       "      <td>3.0</td>\n",
       "      <td>4.0</td>\n",
       "      <td>2541.0</td>\n",
       "      <td>6059.0</td>\n",
       "      <td>-117.912245</td>\n",
       "      <td>38032.0</td>\n",
       "      <td>96958.0</td>\n",
       "      <td>2003.0</td>\n",
       "      <td>880456.0</td>\n",
       "      <td>9819.72</td>\n",
       "    </tr>\n",
       "    <tr>\n",
       "      <td>4</td>\n",
       "      <td>2.0</td>\n",
       "      <td>3.0</td>\n",
       "      <td>1491.0</td>\n",
       "      <td>6037.0</td>\n",
       "      <td>-118.338253</td>\n",
       "      <td>54722.0</td>\n",
       "      <td>96162.0</td>\n",
       "      <td>1955.0</td>\n",
       "      <td>107110.0</td>\n",
       "      <td>1399.27</td>\n",
       "    </tr>\n",
       "    <tr>\n",
       "      <td>...</td>\n",
       "      <td>...</td>\n",
       "      <td>...</td>\n",
       "      <td>...</td>\n",
       "      <td>...</td>\n",
       "      <td>...</td>\n",
       "      <td>...</td>\n",
       "      <td>...</td>\n",
       "      <td>...</td>\n",
       "      <td>...</td>\n",
       "      <td>...</td>\n",
       "    </tr>\n",
       "    <tr>\n",
       "      <td>28119</td>\n",
       "      <td>2.0</td>\n",
       "      <td>6.0</td>\n",
       "      <td>2634.0</td>\n",
       "      <td>6037.0</td>\n",
       "      <td>-118.298006</td>\n",
       "      <td>12447.0</td>\n",
       "      <td>95985.0</td>\n",
       "      <td>1921.0</td>\n",
       "      <td>878190.0</td>\n",
       "      <td>12766.88</td>\n",
       "    </tr>\n",
       "    <tr>\n",
       "      <td>28120</td>\n",
       "      <td>1.5</td>\n",
       "      <td>4.0</td>\n",
       "      <td>1187.0</td>\n",
       "      <td>6059.0</td>\n",
       "      <td>-118.015068</td>\n",
       "      <td>16764.0</td>\n",
       "      <td>96180.0</td>\n",
       "      <td>1959.0</td>\n",
       "      <td>465999.0</td>\n",
       "      <td>5552.68</td>\n",
       "    </tr>\n",
       "    <tr>\n",
       "      <td>28121</td>\n",
       "      <td>3.0</td>\n",
       "      <td>5.0</td>\n",
       "      <td>3015.0</td>\n",
       "      <td>6059.0</td>\n",
       "      <td>-117.578817</td>\n",
       "      <td>13693.0</td>\n",
       "      <td>96983.0</td>\n",
       "      <td>2002.0</td>\n",
       "      <td>852813.0</td>\n",
       "      <td>11662.88</td>\n",
       "    </tr>\n",
       "    <tr>\n",
       "      <td>28122</td>\n",
       "      <td>3.0</td>\n",
       "      <td>5.0</td>\n",
       "      <td>2992.0</td>\n",
       "      <td>6037.0</td>\n",
       "      <td>-118.554206</td>\n",
       "      <td>12447.0</td>\n",
       "      <td>96356.0</td>\n",
       "      <td>1977.0</td>\n",
       "      <td>1120000.0</td>\n",
       "      <td>13663.03</td>\n",
       "    </tr>\n",
       "    <tr>\n",
       "      <td>28123</td>\n",
       "      <td>3.0</td>\n",
       "      <td>3.0</td>\n",
       "      <td>1574.0</td>\n",
       "      <td>6037.0</td>\n",
       "      <td>-118.604879</td>\n",
       "      <td>12447.0</td>\n",
       "      <td>96346.0</td>\n",
       "      <td>1951.0</td>\n",
       "      <td>563463.0</td>\n",
       "      <td>6903.66</td>\n",
       "    </tr>\n",
       "  </tbody>\n",
       "</table>\n",
       "<p>24903 rows × 10 columns</p>\n",
       "</div>"
      ],
      "text/plain": [
       "       bathrooms  bedrooms  square_feet    fips   longitude     city  \\\n",
       "0            2.0       3.0       1316.0  6037.0 -118.355396  12447.0   \n",
       "1            2.0       3.0       1458.0  6037.0 -118.113100   5534.0   \n",
       "2            1.0       2.0       1421.0  6037.0 -118.291863  12447.0   \n",
       "3            3.0       4.0       2541.0  6059.0 -117.912245  38032.0   \n",
       "4            2.0       3.0       1491.0  6037.0 -118.338253  54722.0   \n",
       "...          ...       ...          ...     ...         ...      ...   \n",
       "28119        2.0       6.0       2634.0  6037.0 -118.298006  12447.0   \n",
       "28120        1.5       4.0       1187.0  6059.0 -118.015068  16764.0   \n",
       "28121        3.0       5.0       3015.0  6059.0 -117.578817  13693.0   \n",
       "28122        3.0       5.0       2992.0  6037.0 -118.554206  12447.0   \n",
       "28123        3.0       3.0       1574.0  6037.0 -118.604879  12447.0   \n",
       "\n",
       "       zip_code  year_built  appraisal_value     taxes  \n",
       "0       95997.0      1923.0         205123.0   2627.48  \n",
       "1       97318.0      1970.0         136104.0   2319.90  \n",
       "2       96018.0      1911.0          35606.0    543.69  \n",
       "3       96958.0      2003.0         880456.0   9819.72  \n",
       "4       96162.0      1955.0         107110.0   1399.27  \n",
       "...         ...         ...              ...       ...  \n",
       "28119   95985.0      1921.0         878190.0  12766.88  \n",
       "28120   96180.0      1959.0         465999.0   5552.68  \n",
       "28121   96983.0      2002.0         852813.0  11662.88  \n",
       "28122   96356.0      1977.0        1120000.0  13663.03  \n",
       "28123   96346.0      1951.0         563463.0   6903.66  \n",
       "\n",
       "[24903 rows x 10 columns]"
      ]
     },
     "execution_count": 3,
     "metadata": {},
     "output_type": "execute_result"
    }
   ],
   "source": [
    "# Use the clean_zillow funtion to drop columns, drop nulls, and address outliers\n",
    "\n",
    "df = prepare.clean_zillow(df)\n",
    "df"
   ]
  },
  {
   "cell_type": "code",
   "execution_count": 4,
   "metadata": {},
   "outputs": [
    {
     "name": "stdout",
     "output_type": "stream",
     "text": [
      "My cleaned dataframe is now coming in with 24903 rows and 10 columns.\n"
     ]
    }
   ],
   "source": [
    "# Take a look at my post-cleaning dataframe, which is much more manageable.\n",
    "\n",
    "print(f'My cleaned dataframe is now coming in with {df.shape[0]} rows and {df.shape[1]} columns.')"
   ]
  },
  {
   "cell_type": "code",
   "execution_count": 5,
   "metadata": {},
   "outputs": [
    {
     "name": "stdout",
     "output_type": "stream",
     "text": [
      "<class 'pandas.core.frame.DataFrame'>\n",
      "Int64Index: 24903 entries, 0 to 28123\n",
      "Data columns (total 10 columns):\n",
      "bathrooms          24903 non-null float64\n",
      "bedrooms           24903 non-null float64\n",
      "square_feet        24903 non-null float64\n",
      "fips               24903 non-null float64\n",
      "longitude          24903 non-null float64\n",
      "city               24903 non-null float64\n",
      "zip_code           24903 non-null float64\n",
      "year_built         24903 non-null float64\n",
      "appraisal_value    24903 non-null float64\n",
      "taxes              24903 non-null float64\n",
      "dtypes: float64(10)\n",
      "memory usage: 2.1 MB\n"
     ]
    }
   ],
   "source": [
    "# Take a more detailed look at my post-cleaning dataframe. I now have 24903 rows, all columns are either float \n",
    "# or int, and no nulls\n",
    "\n",
    "df.info()"
   ]
  },
  {
   "cell_type": "code",
   "execution_count": 6,
   "metadata": {},
   "outputs": [],
   "source": [
    "# Calculate the tax rate and add it as a column\n",
    "\n",
    "df['tax_rate'] = (df['taxes'] / df['appraisal_value'])"
   ]
  },
  {
   "cell_type": "markdown",
   "metadata": {},
   "source": [
    "## Deliverable: Where the Properties Are Located"
   ]
  },
  {
   "cell_type": "code",
   "execution_count": 7,
   "metadata": {},
   "outputs": [
    {
     "data": {
      "text/plain": [
       "array([6037., 6059., 6111.])"
      ]
     },
     "execution_count": 7,
     "metadata": {},
     "output_type": "execute_result"
    }
   ],
   "source": [
    "# The FIPS code shows that the data is based on 3 counties in Southern California: Los Angeles, Orange, and Ventura \n",
    "\n",
    "df['fips'].unique()"
   ]
  },
  {
   "cell_type": "code",
   "execution_count": 8,
   "metadata": {},
   "outputs": [
    {
     "data": {
      "text/html": [
       "<div>\n",
       "<style scoped>\n",
       "    .dataframe tbody tr th:only-of-type {\n",
       "        vertical-align: middle;\n",
       "    }\n",
       "\n",
       "    .dataframe tbody tr th {\n",
       "        vertical-align: top;\n",
       "    }\n",
       "\n",
       "    .dataframe thead th {\n",
       "        text-align: right;\n",
       "    }\n",
       "</style>\n",
       "<table border=\"1\" class=\"dataframe\">\n",
       "  <thead>\n",
       "    <tr style=\"text-align: right;\">\n",
       "      <th></th>\n",
       "      <th>bathrooms</th>\n",
       "      <th>bedrooms</th>\n",
       "      <th>square_feet</th>\n",
       "      <th>fips</th>\n",
       "      <th>longitude</th>\n",
       "      <th>city</th>\n",
       "      <th>zip_code</th>\n",
       "      <th>year_built</th>\n",
       "      <th>appraisal_value</th>\n",
       "      <th>taxes</th>\n",
       "      <th>tax_rate</th>\n",
       "      <th>county_name</th>\n",
       "    </tr>\n",
       "  </thead>\n",
       "  <tbody>\n",
       "    <tr>\n",
       "      <td>0</td>\n",
       "      <td>2.0</td>\n",
       "      <td>3.0</td>\n",
       "      <td>1316.0</td>\n",
       "      <td>6037.0</td>\n",
       "      <td>-118.355396</td>\n",
       "      <td>12447.0</td>\n",
       "      <td>95997.0</td>\n",
       "      <td>1923.0</td>\n",
       "      <td>205123.0</td>\n",
       "      <td>2627.48</td>\n",
       "      <td>0.012809</td>\n",
       "      <td>Los Angeles</td>\n",
       "    </tr>\n",
       "    <tr>\n",
       "      <td>1</td>\n",
       "      <td>2.0</td>\n",
       "      <td>3.0</td>\n",
       "      <td>1458.0</td>\n",
       "      <td>6037.0</td>\n",
       "      <td>-118.113100</td>\n",
       "      <td>5534.0</td>\n",
       "      <td>97318.0</td>\n",
       "      <td>1970.0</td>\n",
       "      <td>136104.0</td>\n",
       "      <td>2319.90</td>\n",
       "      <td>0.017045</td>\n",
       "      <td>Los Angeles</td>\n",
       "    </tr>\n",
       "    <tr>\n",
       "      <td>2</td>\n",
       "      <td>1.0</td>\n",
       "      <td>2.0</td>\n",
       "      <td>1421.0</td>\n",
       "      <td>6037.0</td>\n",
       "      <td>-118.291863</td>\n",
       "      <td>12447.0</td>\n",
       "      <td>96018.0</td>\n",
       "      <td>1911.0</td>\n",
       "      <td>35606.0</td>\n",
       "      <td>543.69</td>\n",
       "      <td>0.015270</td>\n",
       "      <td>Los Angeles</td>\n",
       "    </tr>\n",
       "    <tr>\n",
       "      <td>3</td>\n",
       "      <td>3.0</td>\n",
       "      <td>4.0</td>\n",
       "      <td>2541.0</td>\n",
       "      <td>6059.0</td>\n",
       "      <td>-117.912245</td>\n",
       "      <td>38032.0</td>\n",
       "      <td>96958.0</td>\n",
       "      <td>2003.0</td>\n",
       "      <td>880456.0</td>\n",
       "      <td>9819.72</td>\n",
       "      <td>0.011153</td>\n",
       "      <td>Orange</td>\n",
       "    </tr>\n",
       "    <tr>\n",
       "      <td>4</td>\n",
       "      <td>2.0</td>\n",
       "      <td>3.0</td>\n",
       "      <td>1491.0</td>\n",
       "      <td>6037.0</td>\n",
       "      <td>-118.338253</td>\n",
       "      <td>54722.0</td>\n",
       "      <td>96162.0</td>\n",
       "      <td>1955.0</td>\n",
       "      <td>107110.0</td>\n",
       "      <td>1399.27</td>\n",
       "      <td>0.013064</td>\n",
       "      <td>Los Angeles</td>\n",
       "    </tr>\n",
       "    <tr>\n",
       "      <td>...</td>\n",
       "      <td>...</td>\n",
       "      <td>...</td>\n",
       "      <td>...</td>\n",
       "      <td>...</td>\n",
       "      <td>...</td>\n",
       "      <td>...</td>\n",
       "      <td>...</td>\n",
       "      <td>...</td>\n",
       "      <td>...</td>\n",
       "      <td>...</td>\n",
       "      <td>...</td>\n",
       "      <td>...</td>\n",
       "    </tr>\n",
       "    <tr>\n",
       "      <td>28119</td>\n",
       "      <td>2.0</td>\n",
       "      <td>6.0</td>\n",
       "      <td>2634.0</td>\n",
       "      <td>6037.0</td>\n",
       "      <td>-118.298006</td>\n",
       "      <td>12447.0</td>\n",
       "      <td>95985.0</td>\n",
       "      <td>1921.0</td>\n",
       "      <td>878190.0</td>\n",
       "      <td>12766.88</td>\n",
       "      <td>0.014538</td>\n",
       "      <td>Los Angeles</td>\n",
       "    </tr>\n",
       "    <tr>\n",
       "      <td>28120</td>\n",
       "      <td>1.5</td>\n",
       "      <td>4.0</td>\n",
       "      <td>1187.0</td>\n",
       "      <td>6059.0</td>\n",
       "      <td>-118.015068</td>\n",
       "      <td>16764.0</td>\n",
       "      <td>96180.0</td>\n",
       "      <td>1959.0</td>\n",
       "      <td>465999.0</td>\n",
       "      <td>5552.68</td>\n",
       "      <td>0.011916</td>\n",
       "      <td>Orange</td>\n",
       "    </tr>\n",
       "    <tr>\n",
       "      <td>28121</td>\n",
       "      <td>3.0</td>\n",
       "      <td>5.0</td>\n",
       "      <td>3015.0</td>\n",
       "      <td>6059.0</td>\n",
       "      <td>-117.578817</td>\n",
       "      <td>13693.0</td>\n",
       "      <td>96983.0</td>\n",
       "      <td>2002.0</td>\n",
       "      <td>852813.0</td>\n",
       "      <td>11662.88</td>\n",
       "      <td>0.013676</td>\n",
       "      <td>Orange</td>\n",
       "    </tr>\n",
       "    <tr>\n",
       "      <td>28122</td>\n",
       "      <td>3.0</td>\n",
       "      <td>5.0</td>\n",
       "      <td>2992.0</td>\n",
       "      <td>6037.0</td>\n",
       "      <td>-118.554206</td>\n",
       "      <td>12447.0</td>\n",
       "      <td>96356.0</td>\n",
       "      <td>1977.0</td>\n",
       "      <td>1120000.0</td>\n",
       "      <td>13663.03</td>\n",
       "      <td>0.012199</td>\n",
       "      <td>Los Angeles</td>\n",
       "    </tr>\n",
       "    <tr>\n",
       "      <td>28123</td>\n",
       "      <td>3.0</td>\n",
       "      <td>3.0</td>\n",
       "      <td>1574.0</td>\n",
       "      <td>6037.0</td>\n",
       "      <td>-118.604879</td>\n",
       "      <td>12447.0</td>\n",
       "      <td>96346.0</td>\n",
       "      <td>1951.0</td>\n",
       "      <td>563463.0</td>\n",
       "      <td>6903.66</td>\n",
       "      <td>0.012252</td>\n",
       "      <td>Los Angeles</td>\n",
       "    </tr>\n",
       "  </tbody>\n",
       "</table>\n",
       "<p>24903 rows × 12 columns</p>\n",
       "</div>"
      ],
      "text/plain": [
       "       bathrooms  bedrooms  square_feet    fips   longitude     city  \\\n",
       "0            2.0       3.0       1316.0  6037.0 -118.355396  12447.0   \n",
       "1            2.0       3.0       1458.0  6037.0 -118.113100   5534.0   \n",
       "2            1.0       2.0       1421.0  6037.0 -118.291863  12447.0   \n",
       "3            3.0       4.0       2541.0  6059.0 -117.912245  38032.0   \n",
       "4            2.0       3.0       1491.0  6037.0 -118.338253  54722.0   \n",
       "...          ...       ...          ...     ...         ...      ...   \n",
       "28119        2.0       6.0       2634.0  6037.0 -118.298006  12447.0   \n",
       "28120        1.5       4.0       1187.0  6059.0 -118.015068  16764.0   \n",
       "28121        3.0       5.0       3015.0  6059.0 -117.578817  13693.0   \n",
       "28122        3.0       5.0       2992.0  6037.0 -118.554206  12447.0   \n",
       "28123        3.0       3.0       1574.0  6037.0 -118.604879  12447.0   \n",
       "\n",
       "       zip_code  year_built  appraisal_value     taxes  tax_rate  county_name  \n",
       "0       95997.0      1923.0         205123.0   2627.48  0.012809  Los Angeles  \n",
       "1       97318.0      1970.0         136104.0   2319.90  0.017045  Los Angeles  \n",
       "2       96018.0      1911.0          35606.0    543.69  0.015270  Los Angeles  \n",
       "3       96958.0      2003.0         880456.0   9819.72  0.011153       Orange  \n",
       "4       96162.0      1955.0         107110.0   1399.27  0.013064  Los Angeles  \n",
       "...         ...         ...              ...       ...       ...          ...  \n",
       "28119   95985.0      1921.0         878190.0  12766.88  0.014538  Los Angeles  \n",
       "28120   96180.0      1959.0         465999.0   5552.68  0.011916       Orange  \n",
       "28121   96983.0      2002.0         852813.0  11662.88  0.013676       Orange  \n",
       "28122   96356.0      1977.0        1120000.0  13663.03  0.012199  Los Angeles  \n",
       "28123   96346.0      1951.0         563463.0   6903.66  0.012252  Los Angeles  \n",
       "\n",
       "[24903 rows x 12 columns]"
      ]
     },
     "execution_count": 8,
     "metadata": {},
     "output_type": "execute_result"
    }
   ],
   "source": [
    "# Add the name of the county based on the FIPS numbers from the db\n",
    "\n",
    "df['county_name'] = df['fips'].map({6037: 'Los Angeles', 6059: 'Orange', 6111: 'Ventura'})\n",
    "df"
   ]
  },
  {
   "cell_type": "code",
   "execution_count": 19,
   "metadata": {},
   "outputs": [
    {
     "data": {
      "text/html": [
       "<div>\n",
       "<style scoped>\n",
       "    .dataframe tbody tr th:only-of-type {\n",
       "        vertical-align: middle;\n",
       "    }\n",
       "\n",
       "    .dataframe tbody tr th {\n",
       "        vertical-align: top;\n",
       "    }\n",
       "\n",
       "    .dataframe thead th {\n",
       "        text-align: right;\n",
       "    }\n",
       "</style>\n",
       "<table border=\"1\" class=\"dataframe\">\n",
       "  <thead>\n",
       "    <tr style=\"text-align: right;\">\n",
       "      <th></th>\n",
       "      <th>count</th>\n",
       "      <th>frequency</th>\n",
       "      <th>percentage</th>\n",
       "    </tr>\n",
       "    <tr>\n",
       "      <th>county_name</th>\n",
       "      <th></th>\n",
       "      <th></th>\n",
       "      <th></th>\n",
       "    </tr>\n",
       "  </thead>\n",
       "  <tbody>\n",
       "    <tr>\n",
       "      <td>Los Angeles</td>\n",
       "      <td>15961</td>\n",
       "      <td>0.640927</td>\n",
       "      <td>64.0</td>\n",
       "    </tr>\n",
       "    <tr>\n",
       "      <td>Orange</td>\n",
       "      <td>6710</td>\n",
       "      <td>0.269445</td>\n",
       "      <td>27.0</td>\n",
       "    </tr>\n",
       "    <tr>\n",
       "      <td>Ventura</td>\n",
       "      <td>2232</td>\n",
       "      <td>0.089628</td>\n",
       "      <td>9.0</td>\n",
       "    </tr>\n",
       "  </tbody>\n",
       "</table>\n",
       "</div>"
      ],
      "text/plain": [
       "             count  frequency  percentage\n",
       "county_name                              \n",
       "Los Angeles  15961   0.640927        64.0\n",
       "Orange        6710   0.269445        27.0\n",
       "Ventura       2232   0.089628         9.0"
      ]
     },
     "execution_count": 19,
     "metadata": {},
     "output_type": "execute_result"
    }
   ],
   "source": [
    "# Calculate the percentage of unique county instances, assigning to a seperate dataframe\n",
    "\n",
    "county_dist = pd.DataFrame(df.groupby('county_name').county_name.count())\n",
    "county_dist.columns = ['count']\n",
    "county_dist['frequency'] = df['county_name'].value_counts(normalize=True)\n",
    "county_dist['percentage'] = round(county_dist['frequency'] * 100)\n",
    "county_dist"
   ]
  },
  {
   "cell_type": "code",
   "execution_count": null,
   "metadata": {},
   "outputs": [],
   "source": [
    "### Deliverable: the Distribution of Tax Rates for Each County."
   ]
  },
  {
   "cell_type": "code",
   "execution_count": 21,
   "metadata": {},
   "outputs": [
    {
     "data": {
      "text/html": [
       "<div>\n",
       "<style scoped>\n",
       "    .dataframe tbody tr th:only-of-type {\n",
       "        vertical-align: middle;\n",
       "    }\n",
       "\n",
       "    .dataframe tbody tr th {\n",
       "        vertical-align: top;\n",
       "    }\n",
       "\n",
       "    .dataframe thead th {\n",
       "        text-align: right;\n",
       "    }\n",
       "</style>\n",
       "<table border=\"1\" class=\"dataframe\">\n",
       "  <thead>\n",
       "    <tr style=\"text-align: right;\">\n",
       "      <th></th>\n",
       "      <th>tax_rate</th>\n",
       "    </tr>\n",
       "    <tr>\n",
       "      <th>county_name</th>\n",
       "      <th></th>\n",
       "    </tr>\n",
       "  </thead>\n",
       "  <tbody>\n",
       "    <tr>\n",
       "      <td>Los Angeles</td>\n",
       "      <td>1.3</td>\n",
       "    </tr>\n",
       "    <tr>\n",
       "      <td>Orange</td>\n",
       "      <td>1.2</td>\n",
       "    </tr>\n",
       "    <tr>\n",
       "      <td>Ventura</td>\n",
       "      <td>1.1</td>\n",
       "    </tr>\n",
       "  </tbody>\n",
       "</table>\n",
       "</div>"
      ],
      "text/plain": [
       "             tax_rate\n",
       "county_name          \n",
       "Los Angeles       1.3\n",
       "Orange            1.2\n",
       "Ventura           1.1"
      ]
     },
     "execution_count": 21,
     "metadata": {},
     "output_type": "execute_result"
    }
   ],
   "source": [
    "# Showing the median tax rate per county\n",
    "\n",
    "county_median_tax_rate = pd.DataFrame(round(df.groupby('county_name').tax_rate.median(), 3) * 100)\n",
    "county_median_tax_rate.columns = ['tax_rate']\n",
    "county_median_tax_rate"
   ]
  },
  {
   "cell_type": "code",
   "execution_count": 22,
   "metadata": {},
   "outputs": [],
   "source": [
    "# Visualize the tax distribution by county\n",
    "\n",
    "los_angeles_tax_dist = df[df.county_name == \"Los Angeles\"].tax_rate\n",
    "orange_tax_dist = df[df.county_name == \"Orange\"].tax_rate\n",
    "ventura_tax_dist = df[df.county_name == \"Ventura\"].tax_rate"
   ]
  },
  {
   "cell_type": "code",
   "execution_count": 33,
   "metadata": {},
   "outputs": [
    {
     "data": {
      "image/png": "[encoded data removed]",
      "text/plain": [
       "<Figure size 576x720 with 3 Axes>"
      ]
     },
     "metadata": {
      "needs_background": "light"
     },
     "output_type": "display_data"
    }
   ],
   "source": [
    "from matplotlib.ticker import StrMethodFormatter\n",
    "\n",
    "ax = df.hist(column='tax_rate', by='county_name', bins=25, grid=False, figsize=(8,10), layout=(3,1), sharex=True, color='#86bf91', zorder=2, rwidth=0.9)\n",
    "\n",
    "for i,x in enumerate(ax):\n",
    "\n",
    "    # Despine\n",
    "    x.spines['right'].set_visible(False)\n",
    "    x.spines['top'].set_visible(False)\n",
    "    x.spines['left'].set_visible(False)\n",
    "\n",
    "    # Switch off ticks\n",
    "    x.tick_params(axis=\"both\", which=\"both\", bottom=\"off\", top=\"off\", labelbottom=\"on\", left=\"off\", right=\"off\", labelleft=\"on\")\n",
    "\n",
    "    # Draw horizontal axis lines\n",
    "    vals = x.get_yticks()\n",
    "    for tick in vals:\n",
    "        x.axhline(y=tick, linestyle='dashed', alpha=0.4, color='#eeeeee', zorder=1)\n",
    "\n",
    "    # Set x-axis label\n",
    "    x.set_xlabel(\"2017 Tax Distribution by County\", labelpad=20, weight='bold', size=12)\n",
    "\n",
    "    # Set y-axis label\n",
    "    if i == 1:\n",
    "        x.set_ylabel(\"Count\", labelpad=50, weight='bold', size=12)\n",
    "\n",
    "    # Format y-axis label\n",
    "    x.yaxis.set_major_formatter(StrMethodFormatter('{x:,g}'))\n",
    "\n",
    "    x.tick_params(axis='x', rotation=0)"
   ]
  },
  {
   "cell_type": "code",
   "execution_count": 30,
   "metadata": {},
   "outputs": [
    {
     "data": {
      "image/png": "[encoded data removed]",
      "text/plain": [
       "<Figure size 864x576 with 1 Axes>"
      ]
     },
     "metadata": {
      "needs_background": "light"
     },
     "output_type": "display_data"
    }
   ],
   "source": [
    "\n",
    "plt.figure(figsize=(12, 8))\n",
    "sns.distplot(los_angeles_tax_dist, color = 'Purple')\n",
    "plt.xlim(0, 0.04)\n",
    "plt.ylabel('count')\n",
    "plt.title('2017 Tax Distribution for Los Angeles County')\n",
    "plt.savefig('la.png')"
   ]
  },
  {
   "cell_type": "code",
   "execution_count": null,
   "metadata": {},
   "outputs": [],
   "source": [
    "# After reviewing the pairwise correlations, I've decided on my features \n",
    "\n",
    "features = [\n",
    "    \"bedrooms\",\n",
    "    \"bathrooms\",\n",
    "    \"square_feet\",\n",
    "    \"appraisal_value\"\n",
    "]\n",
    "\n",
    "df = df[features]\n",
    "df.head()"
   ]
  },
  {
   "cell_type": "code",
   "execution_count": null,
   "metadata": {},
   "outputs": [],
   "source": [
    "# Take a look at the \n",
    "\n",
    "df[['square_feet', 'appraisal_value']].describe()"
   ]
  },
  {
   "cell_type": "code",
   "execution_count": null,
   "metadata": {},
   "outputs": [],
   "source": []
  },
  {
   "cell_type": "code",
   "execution_count": 27,
   "metadata": {},
   "outputs": [
    {
     "data": {
      "image/png": "[encoded data removed]",
      "text/plain": [
       "<Figure size 1800x1080 with 4 Axes>"
      ]
     },
     "metadata": {
      "needs_background": "light"
     },
     "output_type": "display_data"
    }
   ],
   "source": [
    "# Construct a figure with subplots of histograms of features\n",
    "\n",
    "# Sets size, can adjust \n",
    "plt.subplots(figsize=(25, 15))\n",
    "\n",
    "plt.subplot(2,2,1);\n",
    "line1 = plt.hist(los_angeles_tax_dist)\n",
    "plt.title('square feet');\n",
    "\n",
    "plt.subplot(2,2,2);\n",
    "line2 = plt.hist(df.bedrooms);\n",
    "plt.title('bed_count');\n",
    "\n",
    "plt.subplot(2,2,3);\n",
    "line3 = plt.hist(df.bathrooms);\n",
    "plt.title('bath_count');\n",
    "\n",
    "plt.subplot(2,2,4);\n",
    "line3 = plt.hist(df.appraisal_value);\n",
    "plt.title('tax_value');"
   ]
  },
  {
   "cell_type": "code",
   "execution_count": null,
   "metadata": {},
   "outputs": [],
   "source": [
    "# Split the data into train, validate, and test and then confirm the shape of the split sets\n",
    "\n",
    "train, validate, test = prepare.split(df)"
   ]
  },
  {
   "cell_type": "code",
   "execution_count": null,
   "metadata": {},
   "outputs": [],
   "source": [
    "sns.heatmap(df.corr(),cmap=\"Blues\")"
   ]
  },
  {
   "cell_type": "code",
   "execution_count": null,
   "metadata": {},
   "outputs": [],
   "source": [
    "sns.pairplot(df, corner=True)"
   ]
  },
  {
   "cell_type": "code",
   "execution_count": null,
   "metadata": {},
   "outputs": [],
   "source": [
    "# Visualize the original variables versus the scaled variables\n",
    "\n",
    "plt.figure(figsize=(15, 10))\n",
    "\n",
    "plt.subplot(321)\n",
    "plt.hist(train.square_feet, bins=25, ec='black')\n",
    "plt.title('Original Square Feet')\n",
    "plt.subplot(322)\n",
    "plt.hist(train.square_feet_scaled, bins=25, ec='black')\n",
    "plt.title('MinMax Scaled Square Feet')\n",
    "\n",
    "plt.subplot(323)\n",
    "plt.hist(train.bedrooms, bins=25, ec='black')\n",
    "plt.title('Original Bed Count')\n",
    "plt.subplot(324)\n",
    "plt.hist(train.bedrooms_scaled, bins=25, ec='black')\n",
    "plt.title('MinMax Scaled Bed Count')\n",
    "\n",
    "plt.subplot(325)\n",
    "plt.hist(train.bathrooms, bins=25, ec='black')\n",
    "plt.title('Original Square Feet')\n",
    "plt.subplot(326)\n",
    "plt.hist(train.bathrooms_scaled, bins=25, ec='black')\n",
    "plt.title('MinMax Scaled Square Feet')"
   ]
  },
  {
   "cell_type": "code",
   "execution_count": null,
   "metadata": {},
   "outputs": [],
   "source": [
    "# Calculate the tax rate\n",
    "\n",
    "df['tax_rate'] = (df['taxes'] / df['appraisal_value'])"
   ]
  },
  {
   "cell_type": "code",
   "execution_count": null,
   "metadata": {},
   "outputs": [],
   "source": [
    "# now to add the county for the FIPS numbers provided from the db\n",
    "# using this resource here\n",
    "# https://www.google.com/url?sa=t&rct=j&q=&esrc=s&source=web&cd=2&ved=2ahUKEwi27cfmn9noAhVNnKwKHSFhBNgQFjABegQIBRAB&url=https%3A%2F%2Fwww2.census.gov%2Fprograms-surveys%2Fpopest%2Fgeographies%2F2017%2Fall-geocodes-v2017.xlsx&usg=AOvVaw1o_RYNM9evsn9LJdV2iXC1\n",
    "# it will download an excel file of the 2017 fips codes, as they can change annually\n",
    "\n",
    "zillow['county_name'] = zillow['fips'].map({6037: 'Los Angeles', 6059: 'Orange', 6111: 'Ventura'})"
   ]
  },
  {
   "cell_type": "code",
   "execution_count": null,
   "metadata": {},
   "outputs": [],
   "source": [
    "### Takeaways:\n"
   ]
  }
 ],
 "metadata": {
  "kernelspec": {
   "display_name": "Python 3",
   "language": "python",
   "name": "python3"
  },
  "language_info": {
   "codemirror_mode": {
    "name": "ipython",
    "version": 3
   },
   "file_extension": ".py",
   "mimetype": "text/x-python",
   "name": "python",
   "nbconvert_exporter": "python",
   "pygments_lexer": "ipython3",
   "version": "3.7.4"
  }
 },
 "nbformat": 4,
 "nbformat_minor": 4
}
